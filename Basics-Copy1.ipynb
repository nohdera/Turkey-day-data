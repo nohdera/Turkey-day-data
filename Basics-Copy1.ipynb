{
 "cells": [
  {
   "cell_type": "code",
   "execution_count": 3,
   "metadata": {
    "collapsed": false
   },
   "outputs": [],
   "source": [
    "import pandas as pd\n",
    "data = pd.read_csv(\"thanksgiving.csv\", encoding=\"Latin-1\")\n",
    "\n"
   ]
  },
  {
   "cell_type": "code",
   "execution_count": 4,
   "metadata": {
    "collapsed": false
   },
   "outputs": [
    {
     "name": "stdout",
     "output_type": "stream",
     "text": [
      "Yes    980\n",
      "No      78\n",
      "Name: Do you celebrate Thanksgiving?, dtype: int64\n"
     ]
    }
   ],
   "source": [
    "celeb = data['Do you celebrate Thanksgiving?']\n",
    "print(celeb.value_counts())\n",
    "\n",
    "does_celebrate = data[data['Do you celebrate Thanksgiving?'] == \"Yes\"]\n",
    "\n"
   ]
  },
  {
   "cell_type": "code",
   "execution_count": 4,
   "metadata": {
    "collapsed": false
   },
   "outputs": [
    {
     "data": {
      "text/plain": [
       "Turkey                    859\n",
       "Other (please specify)     35\n",
       "Ham/Pork                   29\n",
       "Tofurkey                   20\n",
       "Chicken                    12\n",
       "Roast beef                 11\n",
       "I don't know                5\n",
       "Turducken                   3\n",
       "Name: What is typically the main dish at your Thanksgiving dinner?, dtype: int64"
      ]
     },
     "execution_count": 4,
     "metadata": {},
     "output_type": "execute_result"
    }
   ],
   "source": [
    "does_celebrate[\"What is typically the main dish at your Thanksgiving dinner?\"].value_counts()"
   ]
  },
  {
   "cell_type": "code",
   "execution_count": 5,
   "metadata": {
    "collapsed": false
   },
   "outputs": [
    {
     "name": "stdout",
     "output_type": "stream",
     "text": [
      "Yes    12\n",
      "No      8\n",
      "Name: Do you typically have gravy?, dtype: int64\n"
     ]
    }
   ],
   "source": [
    "tofurkey = does_celebrate[does_celebrate[\"What is typically the main dish at your Thanksgiving dinner?\"]== \"Tofurkey\"]\n",
    "print(tofurkey[\"Do you typically have gravy?\"].value_counts())"
   ]
  },
  {
   "cell_type": "code",
   "execution_count": 6,
   "metadata": {
    "collapsed": false
   },
   "outputs": [
    {
     "data": {
      "text/plain": [
       "False    876\n",
       "True     104\n",
       "dtype: int64"
      ]
     },
     "execution_count": 6,
     "metadata": {},
     "output_type": "execute_result"
    }
   ],
   "source": [
    "apple_isnull = pd.isnull(does_celebrate[\"Which type of pie is typically served at your Thanksgiving dinner? Please select all that apply. - Apple\"])\n",
    "pumpkin_isnull = pd.isnull(does_celebrate[\"Which type of pie is typically served at your Thanksgiving dinner? Please select all that apply. - Pumpkin\"])\n",
    "pecan_isnull = pd.isnull(does_celebrate[\"Which type of pie is typically served at your Thanksgiving dinner? Please select all that apply. - Pecan\"])\n",
    "\n",
    "ate_pies = apple_isnull & pumpkin_isnull & pecan_isnull\n",
    "ate_pies.value_counts()\n"
   ]
  },
  {
   "cell_type": "markdown",
   "metadata": {
    "collapsed": true
   },
   "source": [
    "The cell above shows that out of the 980 people that celebrate thanksgiving, 876 ate either apple, pumpkin, or pecan pie.\n"
   ]
  },
  {
   "cell_type": "code",
   "execution_count": 9,
   "metadata": {
    "collapsed": false
   },
   "outputs": [
    {
     "name": "stdout",
     "output_type": "stream",
     "text": [
      "count    947.000000\n",
      "mean      40.089757\n",
      "std       15.352014\n",
      "min       18.000000\n",
      "25%       30.000000\n",
      "50%       45.000000\n",
      "75%       60.000000\n",
      "max       60.000000\n",
      "Name: int_age, dtype: float64\n"
     ]
    }
   ],
   "source": [
    "def converter(row):\n",
    "    age = row[\"Age\"]\n",
    "    if pd.isnull(age) == True:\n",
    "        return None\n",
    "    else:\n",
    "        split_age = age.split(\" \")[0]\n",
    "        num_age = int(split_age[:2])\n",
    "        return num_age\n",
    "    \n",
    "\n",
    "\n",
    "ages = does_celebrate.apply(converter, axis=1)\n",
    "does_celebrate.insert(loc=len(does_celebrate.columns), column=\"int_age\", value=ages)\n",
    "print(does_celebrate[\"int_age\"].describe())\n",
    "\n",
    "\n",
    "\n",
    "        \n",
    "        \n",
    "    \n"
   ]
  },
  {
   "cell_type": "markdown",
   "metadata": {},
   "source": [
    "This cell cuts the age of each respondent to the beginning of their age range(ie for someone in 18-29, their age listed as 18) and looks at some descriptions about the responders age. Since this makes each person the youngest of their range, the description will be skewed to look younger."
   ]
  },
  {
   "cell_type": "code",
   "execution_count": 13,
   "metadata": {
    "collapsed": false
   },
   "outputs": [
    {
     "name": "stdout",
     "output_type": "stream",
     "text": [
      "count       829.000000\n",
      "mean      75965.018094\n",
      "std       59068.636748\n",
      "min           0.000000\n",
      "25%       25000.000000\n",
      "50%       75000.000000\n",
      "75%      100000.000000\n",
      "max      200000.000000\n",
      "Name: int_income, dtype: float64\n"
     ]
    }
   ],
   "source": [
    "def income_converter(person):\n",
    "    income = person[\"How much total combined money did all members of your HOUSEHOLD earn last year?\"]\n",
    "    if pd.isnull(income) == True:\n",
    "        return None\n",
    "    else:\n",
    "        first = income.split(\" \")[0]\n",
    "        if first == \"Prefer\":\n",
    "            return None\n",
    "        else:\n",
    "            raw_number = int(first.replace(\"$\", \"\").replace(\",\",\"\"))\n",
    "            return raw_number\n",
    "        \n",
    "        \n",
    "    \n",
    "new = does_celebrate.apply(income_converter,axis=1)\n",
    "does_celebrate.insert(loc=len(does_celebrate.columns),column=\"int_income\",value=new)\n",
    "print(does_celebrate[\"int_income\"].describe())\n",
    "            "
   ]
  },
  {
   "cell_type": "code",
   "execution_count": 54,
   "metadata": {
    "collapsed": false
   },
   "outputs": [
    {
     "name": "stdout",
     "output_type": "stream",
     "text": [
      "Thanksgiving is happening at my home--I won't travel at all                         0.407837\n",
      "Thanksgiving is local--it will take place in the town I live in                     0.294630\n",
      "Thanksgiving is out of town but not too far--it's a drive of a few hours or less    0.217707\n",
      "Thanksgiving is out of town and far away--I have to drive several hours or fly      0.079826\n",
      "Name: How far will you travel for Thanksgiving?, dtype: float64\n",
      "Thanksgiving is happening at my home--I won't travel at all                         0.480392\n",
      "Thanksgiving is local--it will take place in the town I live in                     0.245098\n",
      "Thanksgiving is out of town but not too far--it's a drive of a few hours or less    0.156863\n",
      "Thanksgiving is out of town and far away--I have to drive several hours or fly      0.117647\n",
      "Name: How far will you travel for Thanksgiving?, dtype: float64\n"
     ]
    }
   ],
   "source": [
    "less_than = does_celebrate.loc[does_celebrate[\"int_income\"]<150000]\n",
    "print(less_than[\"How far will you travel for Thanksgiving?\"].value_counts(normalize=True))\n",
    "\n",
    "more_than = less_than = does_celebrate.loc[does_celebrate[\"int_income\"]>150000]\n",
    "print(more_than[\"How far will you travel for Thanksgiving?\"].value_counts(normalize=True))"
   ]
  },
  {
   "cell_type": "markdown",
   "metadata": {
    "collapsed": true
   },
   "source": [
    "This data shows that about for people that make less than 150K, 7% more of those people travel compared to those that earn more than 150K."
   ]
  },
  {
   "cell_type": "code",
   "execution_count": 16,
   "metadata": {
    "collapsed": false
   },
   "outputs": [
    {
     "name": "stdout",
     "output_type": "stream",
     "text": [
      "Have you ever attended a \"Friendsgiving?\"                  No        Yes\n",
      "Have you ever tried to meet up with hometown fr...                      \n",
      "No                                                  42.283702  37.010526\n",
      "Yes                                                 41.475410  33.976744\n",
      "Have you ever attended a \"Friendsgiving?\"                     No           Yes\n",
      "Have you ever tried to meet up with hometown fr...                            \n",
      "No                                                  78914.549654  72894.736842\n",
      "Yes                                                 78750.000000  66019.736842\n"
     ]
    }
   ],
   "source": [
    "thanksgiving_pivot = pd.pivot_table(does_celebrate,index=\"Have you ever tried to meet up with hometown friends on Thanksgiving night?\",\n",
    "                                    columns='Have you ever attended a \"Friendsgiving?\"', values=\"int_age\")\n",
    "print(thanksgiving_pivot)\n",
    "\n",
    "average_income = pd.pivot_table(does_celebrate,index='Have you ever tried to meet up with hometown friends on Thanksgiving night?',\n",
    "                                columns='Have you ever attended a \"Friendsgiving?\"', values='int_income')\n",
    "print(average_income)"
   ]
  },
  {
   "cell_type": "code",
   "execution_count": null,
   "metadata": {
    "collapsed": true
   },
   "outputs": [],
   "source": []
  }
 ],
 "metadata": {
  "kernelspec": {
   "display_name": "Python 3",
   "language": "python",
   "name": "python3"
  },
  "language_info": {
   "codemirror_mode": {
    "name": "ipython",
    "version": 3
   },
   "file_extension": ".py",
   "mimetype": "text/x-python",
   "name": "python",
   "nbconvert_exporter": "python",
   "pygments_lexer": "ipython3",
   "version": "3.4.3"
  }
 },
 "nbformat": 4,
 "nbformat_minor": 0
}
